{
 "cells": [
  {
   "cell_type": "markdown",
   "id": "e8528ce5",
   "metadata": {},
   "source": [
    "## M5 T01\n",
    "### - Exercici 1\n",
    "\n",
    "Primers passos: descarrega el dataset adjunt de dades oficials de la UEFA. "
   ]
  },
  {
   "cell_type": "code",
   "execution_count": 3,
   "id": "575f71b5",
   "metadata": {
    "scrolled": false
   },
   "outputs": [
    {
     "data": {
      "text/html": [
       "<div>\n",
       "<style scoped>\n",
       "    .dataframe tbody tr th:only-of-type {\n",
       "        vertical-align: middle;\n",
       "    }\n",
       "\n",
       "    .dataframe tbody tr th {\n",
       "        vertical-align: top;\n",
       "    }\n",
       "\n",
       "    .dataframe thead th {\n",
       "        text-align: right;\n",
       "    }\n",
       "</style>\n",
       "<table border=\"1\" class=\"dataframe\">\n",
       "  <thead>\n",
       "    <tr style=\"text-align: right;\">\n",
       "      <th></th>\n",
       "      <th>Rk</th>\n",
       "      <th>Squad</th>\n",
       "      <th>Country</th>\n",
       "      <th>LgRk</th>\n",
       "      <th>MP</th>\n",
       "      <th>W</th>\n",
       "      <th>D</th>\n",
       "      <th>L</th>\n",
       "      <th>GF</th>\n",
       "      <th>GA</th>\n",
       "      <th>...</th>\n",
       "      <th>Pts</th>\n",
       "      <th>Pts/G</th>\n",
       "      <th>xG</th>\n",
       "      <th>xGA</th>\n",
       "      <th>xGD</th>\n",
       "      <th>xGD/90</th>\n",
       "      <th>Last 5</th>\n",
       "      <th>Attendance</th>\n",
       "      <th>Top Team Scorer</th>\n",
       "      <th>Goalkeeper</th>\n",
       "    </tr>\n",
       "  </thead>\n",
       "  <tbody>\n",
       "    <tr>\n",
       "      <th>0</th>\n",
       "      <td>1</td>\n",
       "      <td>Manchester City</td>\n",
       "      <td>ENG</td>\n",
       "      <td>1</td>\n",
       "      <td>37</td>\n",
       "      <td>28</td>\n",
       "      <td>6</td>\n",
       "      <td>3</td>\n",
       "      <td>96</td>\n",
       "      <td>24</td>\n",
       "      <td>...</td>\n",
       "      <td>90</td>\n",
       "      <td>2.43</td>\n",
       "      <td>86.1</td>\n",
       "      <td>26.8</td>\n",
       "      <td>59.3</td>\n",
       "      <td>1.60</td>\n",
       "      <td>W W W W D</td>\n",
       "      <td>52739</td>\n",
       "      <td>Kevin De Bruyne - 15</td>\n",
       "      <td>Ederson</td>\n",
       "    </tr>\n",
       "    <tr>\n",
       "      <th>1</th>\n",
       "      <td>2</td>\n",
       "      <td>Liverpool</td>\n",
       "      <td>ENG</td>\n",
       "      <td>2</td>\n",
       "      <td>36</td>\n",
       "      <td>26</td>\n",
       "      <td>8</td>\n",
       "      <td>2</td>\n",
       "      <td>89</td>\n",
       "      <td>24</td>\n",
       "      <td>...</td>\n",
       "      <td>86</td>\n",
       "      <td>2.39</td>\n",
       "      <td>84.6</td>\n",
       "      <td>33.1</td>\n",
       "      <td>51.4</td>\n",
       "      <td>1.43</td>\n",
       "      <td>W W W D W</td>\n",
       "      <td>53367</td>\n",
       "      <td>Mohamed Salah - 22</td>\n",
       "      <td>Alisson</td>\n",
       "    </tr>\n",
       "    <tr>\n",
       "      <th>2</th>\n",
       "      <td>3</td>\n",
       "      <td>Real Madrid</td>\n",
       "      <td>ESP</td>\n",
       "      <td>1</td>\n",
       "      <td>37</td>\n",
       "      <td>26</td>\n",
       "      <td>7</td>\n",
       "      <td>4</td>\n",
       "      <td>80</td>\n",
       "      <td>31</td>\n",
       "      <td>...</td>\n",
       "      <td>85</td>\n",
       "      <td>2.30</td>\n",
       "      <td>73.0</td>\n",
       "      <td>45.8</td>\n",
       "      <td>27.2</td>\n",
       "      <td>0.73</td>\n",
       "      <td>W W L W D</td>\n",
       "      <td>40624</td>\n",
       "      <td>Karim Benzema - 27</td>\n",
       "      <td>Thibaut Courtois</td>\n",
       "    </tr>\n",
       "    <tr>\n",
       "      <th>3</th>\n",
       "      <td>4</td>\n",
       "      <td>Bayern Munich</td>\n",
       "      <td>GER</td>\n",
       "      <td>1</td>\n",
       "      <td>34</td>\n",
       "      <td>24</td>\n",
       "      <td>5</td>\n",
       "      <td>5</td>\n",
       "      <td>97</td>\n",
       "      <td>37</td>\n",
       "      <td>...</td>\n",
       "      <td>77</td>\n",
       "      <td>2.26</td>\n",
       "      <td>88.1</td>\n",
       "      <td>37.1</td>\n",
       "      <td>51.0</td>\n",
       "      <td>1.50</td>\n",
       "      <td>W W L D D</td>\n",
       "      <td>33176</td>\n",
       "      <td>Robert Lewandowski - 35</td>\n",
       "      <td>Manuel Neuer</td>\n",
       "    </tr>\n",
       "    <tr>\n",
       "      <th>4</th>\n",
       "      <td>5</td>\n",
       "      <td>Paris S-G</td>\n",
       "      <td>FRA</td>\n",
       "      <td>1</td>\n",
       "      <td>37</td>\n",
       "      <td>25</td>\n",
       "      <td>8</td>\n",
       "      <td>4</td>\n",
       "      <td>85</td>\n",
       "      <td>36</td>\n",
       "      <td>...</td>\n",
       "      <td>83</td>\n",
       "      <td>2.24</td>\n",
       "      <td>71.6</td>\n",
       "      <td>38.1</td>\n",
       "      <td>33.4</td>\n",
       "      <td>0.90</td>\n",
       "      <td>W D D D W</td>\n",
       "      <td>41188</td>\n",
       "      <td>Kylian Mbappé - 25</td>\n",
       "      <td>Keylor Navas</td>\n",
       "    </tr>\n",
       "  </tbody>\n",
       "</table>\n",
       "<p>5 rows × 21 columns</p>\n",
       "</div>"
      ],
      "text/plain": [
       "   Rk            Squad Country  LgRk  MP   W  D  L  GF  GA  ...  Pts  Pts/G  \\\n",
       "0   1  Manchester City     ENG     1  37  28  6  3  96  24  ...   90   2.43   \n",
       "1   2        Liverpool     ENG     2  36  26  8  2  89  24  ...   86   2.39   \n",
       "2   3      Real Madrid     ESP     1  37  26  7  4  80  31  ...   85   2.30   \n",
       "3   4    Bayern Munich     GER     1  34  24  5  5  97  37  ...   77   2.26   \n",
       "4   5        Paris S-G     FRA     1  37  25  8  4  85  36  ...   83   2.24   \n",
       "\n",
       "     xG   xGA   xGD  xGD/90     Last 5 Attendance          Top Team Scorer  \\\n",
       "0  86.1  26.8  59.3    1.60  W W W W D      52739     Kevin De Bruyne - 15   \n",
       "1  84.6  33.1  51.4    1.43  W W W D W      53367       Mohamed Salah - 22   \n",
       "2  73.0  45.8  27.2    0.73  W W L W D      40624       Karim Benzema - 27   \n",
       "3  88.1  37.1  51.0    1.50  W W L D D      33176  Robert Lewandowski - 35   \n",
       "4  71.6  38.1  33.4    0.90  W D D D W      41188       Kylian Mbappé - 25   \n",
       "\n",
       "         Goalkeeper  \n",
       "0           Ederson  \n",
       "1           Alisson  \n",
       "2  Thibaut Courtois  \n",
       "3      Manuel Neuer  \n",
       "4      Keylor Navas  \n",
       "\n",
       "[5 rows x 21 columns]"
      ]
     },
     "execution_count": 3,
     "metadata": {},
     "output_type": "execute_result"
    }
   ],
   "source": [
    "# Carreguem pandas i la base de dades\n",
    "\n",
    "import pandas as pd\n",
    "import numpy as np\n",
    "equips = pd.read_csv('Lligues europees UEFA.csv', sep = ';', encoding = 'latin_1')\n",
    "pd.DataFrame(equips).to_numpy()\n",
    "equips.head()"
   ]
  },
  {
   "cell_type": "code",
   "execution_count": 4,
   "id": "2ca2f433",
   "metadata": {
    "scrolled": true
   },
   "outputs": [
    {
     "data": {
      "text/plain": [
       "['Rk',\n",
       " 'Squad',\n",
       " 'Country',\n",
       " 'LgRk',\n",
       " 'MP',\n",
       " 'W',\n",
       " 'D',\n",
       " 'L',\n",
       " 'GF',\n",
       " 'GA',\n",
       " 'GD',\n",
       " 'Pts',\n",
       " 'Pts/G',\n",
       " 'xG',\n",
       " 'xGA',\n",
       " 'xGD',\n",
       " 'xGD/90',\n",
       " 'Last 5',\n",
       " 'Attendance',\n",
       " 'Top Team Scorer',\n",
       " 'Goalkeeper']"
      ]
     },
     "execution_count": 4,
     "metadata": {},
     "output_type": "execute_result"
    }
   ],
   "source": [
    "# Veiem el nom de totes les columnes\n",
    "list(equips.columns)\n"
   ]
  },
  {
   "cell_type": "markdown",
   "id": "9fe806b4",
   "metadata": {},
   "source": [
    "#### Que volen dir els encapçalament de les taules?\n",
    "La majoria son força comuns: MP: partits jugats; W: victories; GF: gols a favor; Pts: punts = ((W*3) + D); etc. Altres no ho son tant\n",
    "\n",
    "Buscant per internet es pot trobar:\n",
    "\n",
    "    xG - the number of expected goals from one or several players, depend on the quality of the kicks.\n",
    "\n",
    "    xGA - the number of expected goals from opponents, depend on the quality of the kicks.\n",
    "    \n",
    "    xGD - the difference between expected scored and expected missed goals.\n",
    "    \n",
    "    xGD/90 the difference between expected scored and expected missed goals in 90 minutes."
   ]
  },
  {
   "cell_type": "markdown",
   "id": "4ad2cd98",
   "metadata": {},
   "source": [
    "### - Exercici 1\n",
    "\n",
    "Descarrega el dataset adjunt de dades oficials de la UEFA i selecciona un atribut del conjunt de dades. Calcula el p-valor i digues si rebutja la hipòtesi nul·la agafant un alfa de 5%. "
   ]
  },
  {
   "cell_type": "markdown",
   "id": "86b9798e",
   "metadata": {},
   "source": [
    "#### Plantejament del problema: \n",
    "El 14 d'agost de 2020 el FC Barcelona va perdre contra el Bayern de munich per 2-8; això vol dir 6 gols de diferència.\n",
    "\n",
    "Volem saber si aquesta differencia era probable o no, amb un alpha de 5%.\n",
    "\n",
    "H0 -> 6 gols de diferència es un valor normal\n",
    "\n",
    "Ha -> No ho es\n",
    "\n",
    "Seleccionem l'atribut xGD/90, que indica la diferencia de gols en 90 minuts. Apliquem un test de dues cues, perque podria haver estat 6 a favor o en contra del FC Barcelona."
   ]
  },
  {
   "cell_type": "markdown",
   "id": "4c9f2533",
   "metadata": {},
   "source": [
    "#### Test de normalitat de la mostra\n",
    "Abans d'analitzar les dades hem de comprovar que tene una distribució normal, gaussiana. Segons el resultat farem servir un o un altre test:\n",
    "\n",
    "Si tene la distribucio normal: _T-test d'una mostra_\n",
    "\n",
    "Si la distribució no es normal: Mann Whitney U Test"
   ]
  },
  {
   "cell_type": "code",
   "execution_count": 5,
   "id": "8b5bd1e6",
   "metadata": {},
   "outputs": [
    {
     "name": "stdout",
     "output_type": "stream",
     "text": [
      "stat=0.978, p=0.096\n",
      "Probablement te una distribucio normal: farem servir el T-test d'una mostra\n"
     ]
    }
   ],
   "source": [
    "from scipy.stats import shapiro\n",
    "data = equips['xGD/90']\n",
    "stat, p = shapiro(data)\n",
    "print('stat=%.3f, p=%.3f' % (stat, p))\n",
    "if p < 0.05:\n",
    "    print('Probablement no te una distribucio normal: fer servir Mann Whitney U Test')\n",
    "else:\n",
    "    print('Probablement te una distribucio normal: farem servir el T-test d\\'una mostra')"
   ]
  },
  {
   "cell_type": "code",
   "execution_count": 6,
   "id": "66241ef4",
   "metadata": {},
   "outputs": [
    {
     "name": "stdout",
     "output_type": "stream",
     "text": [
      "stat=-107.701, p=0.000\n",
      "RESULTAT: Probablement hi ha una diferencia entre el promig i obtenir 6 gols de diferència\n"
     ]
    }
   ],
   "source": [
    "from scipy.stats import ttest_1samp\n",
    "\n",
    "stat, p = ttest_1samp(equips['xGD/90'], popmean = 6, alternative='two-sided')\n",
    "\n",
    "print('stat=%.3f, p=%.3f' % (stat, p))\n",
    "if p > 0.05:\n",
    "    print('RESULTAT: Probablement no hay cap diferencia entre 6 gols de diferencia i el promig')\n",
    "else:\n",
    "    print('RESULTAT: Probablement hi ha una diferencia entre el promig i obtenir 6 gols de diferència')"
   ]
  },
  {
   "cell_type": "markdown",
   "id": "225ee1d4",
   "metadata": {},
   "source": [
    "Mes recenment el FC Barcelona va perdre per 2-0 enfront del Bayern de Munich. Veiem si era un resultat probable.\n",
    "\n",
    "H0 -> 2 gols de diferència es un valor normal\n",
    "\n",
    "Ha -> No ho es"
   ]
  },
  {
   "cell_type": "code",
   "execution_count": 7,
   "id": "86782f68",
   "metadata": {},
   "outputs": [
    {
     "name": "stdout",
     "output_type": "stream",
     "text": [
      "stat=-35.889, p=0.000\n",
      "RESULTAT: Probablement hi ha una diferencia entre el promig i obtenir 2 gols de diferència\n"
     ]
    }
   ],
   "source": [
    "from scipy.stats import ttest_1samp\n",
    "\n",
    "stat, p = ttest_1samp(equips['xGD/90'], popmean = 2, alternative='two-sided')\n",
    "\n",
    "print('stat=%.3f, p=%.3f' % (stat, p))\n",
    "if p > 0.05:\n",
    "    print('RESULTAT: Probablement no hay cap diferencia entre 2 gols de diferencia i el promig')\n",
    "else:\n",
    "    print('RESULTAT: Probablement hi ha una diferencia entre el promig i obtenir 2 gols de diferència')"
   ]
  },
  {
   "cell_type": "markdown",
   "id": "0386f8a2",
   "metadata": {},
   "source": [
    "#### Vaja sorpresa!!\n",
    "Un diria que una diferencia de 2 gols seria relativament comú en un partit de futbol, però el valor p viu que hi ha differencia entre el resultat real i el promig considerat.\n",
    "\n",
    "Mirem la distribució dels valors de la columna xGD/90:"
   ]
  },
  {
   "cell_type": "code",
   "execution_count": 8,
   "id": "a63f8c6a",
   "metadata": {
    "scrolled": true
   },
   "outputs": [
    {
     "data": {
      "image/png": "[encoded data removed]",
      "text/plain": [
       "<Figure size 432x288 with 1 Axes>"
      ]
     },
     "metadata": {
      "needs_background": "light"
     },
     "output_type": "display_data"
    }
   ],
   "source": [
    "import matplotlib.pyplot as plt\n",
    "import seaborn as sns\n",
    "sns.histplot(equips['xGD/90'], kde = True, bins = 20);"
   ]
  },
  {
   "cell_type": "markdown",
   "id": "05780a55",
   "metadata": {},
   "source": [
    "#### Interpretació del Exercici 1\n",
    "\n",
    "El valor de la diferencia per partir que s'ha fet servir es el promig dels differents equip, a falta d'un valor millor. La variabilitat d'aquest promig es petita i el rang va de -1 a 1.5. Si haguessim fet servir els resultats reals de tots els partit hagues estat més probable que els resultats fossin més varibles."
   ]
  },
  {
   "cell_type": "markdown",
   "id": "4d818564",
   "metadata": {},
   "source": [
    "### - Exercici 2\n",
    "\n",
    "Amb el mateix dataset selecciona dos altres atributs del conjunt de dades. Calcula els p-valors i digues si rebutgen la hipòtesi nul·la agafant un alfa de 5%."
   ]
  },
  {
   "cell_type": "markdown",
   "id": "0074aede",
   "metadata": {},
   "source": [
    "Per aquest exercici voldrem saber si hi ha relació entre la asistencia al camp i els punts que te l'equip\n",
    "\n",
    "Una primera aproximació es veure si hi ha una correlació i calcular el valor p per determinar si hi ha dependència o no"
   ]
  },
  {
   "cell_type": "code",
   "execution_count": 9,
   "id": "30b1a2ff",
   "metadata": {},
   "outputs": [
    {
     "name": "stdout",
     "output_type": "stream",
     "text": [
      "Pel que fa a Attendance: stat=0.907, p=0.000\n",
      "Probablement no te una distribucio normal: fer servir Spearman’s Rank Correlation\n",
      "--\n",
      "Pel que fa a Pts: stat=0.972, p=0.035\n",
      "Probablement no te una distribucio normal: fer servir Spearman’s Rank Correlation\n"
     ]
    }
   ],
   "source": [
    "# Test de Normalitat de les dades\n",
    "\n",
    "from scipy.stats import shapiro\n",
    "data = equips['Attendance']\n",
    "stat, p = shapiro(data)\n",
    "print('Pel que fa a Attendance:','stat=%.3f, p=%.3f' % (stat, p))\n",
    "if p < 0.05:\n",
    "    print('Probablement no te una distribucio normal: fer servir Spearman’s Rank Correlation')\n",
    "else:\n",
    "    print('Probablement te una distribucio normal: farem servir el Pearson’s Correlation Coefficient')\n",
    "    \n",
    "data = equips['Pts']\n",
    "stat, p = shapiro(data)\n",
    "print('--')\n",
    "\n",
    "print('Pel que fa a Pts:','stat=%.3f, p=%.3f' % (stat, p))\n",
    "if p < 0.05:\n",
    "    print('Probablement no te una distribucio normal: fer servir Spearman’s Rank Correlation')\n",
    "else:\n",
    "    print('Probablement te una distribucio normal: farem servir el Pearson’s Correlation Coefficient')"
   ]
  },
  {
   "cell_type": "code",
   "execution_count": 10,
   "id": "6c083cb6",
   "metadata": {},
   "outputs": [
    {
     "data": {
      "image/png": "[encoded data removed]",
      "text/plain": [
       "<Figure size 720x360 with 2 Axes>"
      ]
     },
     "metadata": {
      "needs_background": "light"
     },
     "output_type": "display_data"
    }
   ],
   "source": [
    "# Veiem els histogrames, que ens mostren una distribució desplaçada cap a l'esquerra, especialment pel que fa a l'asistencia\n",
    "\n",
    "import matplotlib.pyplot as plt\n",
    "import seaborn as sns\n",
    "\n",
    "plt.figure(figsize=(10,5))\n",
    "plt.subplots_adjust(left=None, bottom=None, right=None, top=None, wspace=None, hspace=.45)\n",
    "plt.suptitle(\"Distribució de Attendance i Pts\", size = 20)\n",
    "\n",
    "plt.subplot(1,2,1)\n",
    "sns.histplot(equips['Attendance'], kde = True, bins=10)\n",
    "plt.xticks(rotation = 20)\n",
    "plt.title('Asistencia')\n",
    "\n",
    "plt.subplot(1,2,2)\n",
    "sns.histplot(equips['Pts'], kde = True, bins=10)\n",
    "plt.title('Punts');"
   ]
  },
  {
   "cell_type": "code",
   "execution_count": 11,
   "id": "ff2350bc",
   "metadata": {},
   "outputs": [
    {
     "data": {
      "image/png": "[encoded data removed]",
      "text/plain": [
       "<Figure size 576x288 with 1 Axes>"
      ]
     },
     "metadata": {
      "needs_background": "light"
     },
     "output_type": "display_data"
    }
   ],
   "source": [
    "# Veiem aquesta relació gràficament\n",
    "\n",
    "sns.pairplot(x_vars='Pts', y_vars='Attendance', data=equips, kind='reg', height=4, aspect=2);"
   ]
  },
  {
   "cell_type": "code",
   "execution_count": 12,
   "id": "25432363",
   "metadata": {},
   "outputs": [
    {
     "name": "stdout",
     "output_type": "stream",
     "text": [
      "stat=0.546, p=0.000\n",
      "RESULTAT: Probablement son dependents\n"
     ]
    }
   ],
   "source": [
    "# Calculem el Coeficient de Spearman\n",
    "\n",
    "from scipy.stats import spearmanr\n",
    "stat, p = spearmanr(equips['Attendance'],equips['Pts'])\n",
    "print('stat=%.3f, p=%.3f' % (stat, p))\n",
    "if p < 0.05:\n",
    "    print('RESULTAT: Probablement son dependents')\n",
    "else:\n",
    "    print('RESULTAT: Probablement son independents')"
   ]
  },
  {
   "cell_type": "markdown",
   "id": "f3fd2ce4",
   "metadata": {},
   "source": [
    "### - Exercici 2 b\n",
    "\n",
    "Ho farem servir un test de comprobació d'hipòtesi: Hem de fer servir el Mann-Whitney U Test (no paramètric) perque les dades no tenen una distribució normal\n",
    "\n",
    "H0 -> Les distribucion de Attendance i Pts son iguals\n",
    "\n",
    "Ha -> Les distribucions son diferents"
   ]
  },
  {
   "cell_type": "code",
   "execution_count": 13,
   "id": "f8b0f653",
   "metadata": {
    "scrolled": true
   },
   "outputs": [
    {
     "name": "stdout",
     "output_type": "stream",
     "text": [
      "stat=9604.000, p=0.000\n",
      "RESULTAT: La distribució probablement es diferent\n"
     ]
    }
   ],
   "source": [
    "# Mann-Whitney U Test\n",
    "from scipy.stats import mannwhitneyu\n",
    "\n",
    "stat, p = mannwhitneyu(equips['Attendance'],equips['Pts'])\n",
    "print('stat=%.3f, p=%.3f' % (stat, p))\n",
    "if p < 0.05:\n",
    "    print('RESULTAT: La distribució probablement es diferent')\n",
    "else:\n",
    "    print('RESULTAT: La distribució probablement NO es diferent')"
   ]
  },
  {
   "cell_type": "markdown",
   "id": "c96c2f23",
   "metadata": {},
   "source": [
    "#### Cometari\n",
    "Aquest càlcul no te gaire sentit ja que son valors molt diferents: l'asistencia es el el rang de les decenes de millar, mentres que els punts es de l'order de decenes. \n",
    "\n",
    "Hem de normalitzar les mostres:"
   ]
  },
  {
   "cell_type": "code",
   "execution_count": 14,
   "id": "ba3a5412",
   "metadata": {},
   "outputs": [
    {
     "name": "stdout",
     "output_type": "stream",
     "text": [
      "stat=4897.000, p=0.812\n",
      "RESULTAT: La distribució probablement NO es diferent\n"
     ]
    }
   ],
   "source": [
    "import pandas\n",
    "from sklearn import linear_model\n",
    "from sklearn import preprocessing\n",
    "from sklearn.preprocessing import StandardScaler\n",
    "\n",
    "scale = StandardScaler()\n",
    "\n",
    "X = equips['Pts']\n",
    "X = X.array.reshape(-1, 1)\n",
    "scaledX = scale.fit_transform(X)\n",
    "\n",
    "y = equips['Attendance']\n",
    "y = y.array.reshape(-1, 1)\n",
    "scaledy = scale.fit_transform(y)\n",
    "\n",
    "from scipy.stats import mannwhitneyu\n",
    "\n",
    "stat, p = mannwhitneyu(scaledX,scaledy)\n",
    "print('stat=%.3f, p=%.3f' % (stat, p))\n",
    "if p < 0.05:\n",
    "    print('RESULTAT: La distribució probablement es diferent')\n",
    "else:\n",
    "    print('RESULTAT: La distribució probablement NO es diferent')"
   ]
  },
  {
   "cell_type": "markdown",
   "id": "2143abb1",
   "metadata": {},
   "source": [
    "#### Interpretació del Exercici 2b\n",
    "\n",
    "Quan normalitzem els valors de Attendance i Pts el valor p es força elevat, la qual cosa demostra que no hi ha cap diferencia "
   ]
  },
  {
   "cell_type": "markdown",
   "id": "52c31218",
   "metadata": {},
   "source": [
    "### - Exercici 3\n",
    "\n",
    "Continua amb el conjunt de dades adjunt i selecciona tres atributs del conjunt de dades. Calcula el p-valor i digues si rebutja la hipòtesi nul·la agafant un alfa de 5%."
   ]
  },
  {
   "cell_type": "markdown",
   "id": "7803699d",
   "metadata": {},
   "source": [
    "Comparerem els gols a favor, en contra i la diferència: GF, GA, GD"
   ]
  },
  {
   "cell_type": "code",
   "execution_count": 15,
   "id": "50694406",
   "metadata": {},
   "outputs": [
    {
     "name": "stdout",
     "output_type": "stream",
     "text": [
      "Pel que fa a GF: stat=0.943, p=0.000\n",
      "Probablement no te una distribucio normal: fer servir Kruskal-Wallis H Test\n",
      "--\n",
      "Pel que fa a GA: stat=0.983, p=0.243\n",
      "Probablement te una distribucio normal: farem servir ANOVA\n",
      "--\n",
      "Pel que fa a GD: stat=0.986, p=0.396\n",
      "Probablement te una distribucio normal: farem servir ANOVA\n"
     ]
    }
   ],
   "source": [
    "# Test de Normalitat de les dades\n",
    "\n",
    "from scipy.stats import shapiro\n",
    "data = equips['GF']\n",
    "stat, p = shapiro(data)\n",
    "print('Pel que fa a GF:','stat=%.3f, p=%.3f' % (stat, p))\n",
    "if p < 0.05:\n",
    "    print('Probablement no te una distribucio normal: fer servir Kruskal-Wallis H Test')\n",
    "else:\n",
    "    print('Probablement te una distribucio normal: farem servir ANOVA')\n",
    "\n",
    "print('--')\n",
    "\n",
    "data = equips['GA']\n",
    "stat, p = shapiro(data)\n",
    "print('Pel que fa a GA:','stat=%.3f, p=%.3f' % (stat, p))\n",
    "if p < 0.05:\n",
    "    print('Probablement no te una distribucio normal: fer servir Kruskal-Wallis H Test')\n",
    "else:\n",
    "    print('Probablement te una distribucio normal: farem servir ANOVA')\n",
    "    \n",
    "print('--')\n",
    "\n",
    "data = equips['GD']\n",
    "stat, p = shapiro(data)\n",
    "print('Pel que fa a GD:','stat=%.3f, p=%.3f' % (stat, p))\n",
    "if p < 0.05:\n",
    "    print('Probablement no te una distribucio normal: fer servir Kruskal-Wallis H Test')\n",
    "else:\n",
    "    print('Probablement te una distribucio normal: farem servir ANOVA')    \n"
   ]
  },
  {
   "cell_type": "code",
   "execution_count": 16,
   "id": "3d3e8638",
   "metadata": {},
   "outputs": [
    {
     "name": "stdout",
     "output_type": "stream",
     "text": [
      "stat=154.281, p=0.000\n",
      "Probably different distributions\n"
     ]
    }
   ],
   "source": [
    "# Kruskal-Wallis H Test\n",
    "from scipy.stats import kruskal\n",
    "\n",
    "stat, p = kruskal(equips['GF'], equips['GA'], equips['GD'])\n",
    "print('stat=%.3f, p=%.3f' % (stat, p))\n",
    "if p < 0.05:\n",
    "    print('Probably different distributions')\n",
    "else:\n",
    "    print('Probably the same distribution')"
   ]
  },
  {
   "cell_type": "code",
   "execution_count": 33,
   "id": "cb0e031b",
   "metadata": {},
   "outputs": [
    {
     "name": "stdout",
     "output_type": "stream",
     "text": [
      "stat=221.057, p=0.000\n",
      "Probably different distributions\n"
     ]
    }
   ],
   "source": [
    "# Fen una ANOVA, encara que no seria el test mes adient perque una de les series (GF) no te una distribució normal.\n",
    "\n",
    "from scipy.stats import f_oneway\n",
    "\n",
    "stat, p = f_oneway(equips['GF'], equips['GA'], equips['GD'])\n",
    "print('stat=%.3f, p=%.3f' % (stat, p))\n",
    "if p > 0.05:\n",
    "    print('Probably the same distribution')\n",
    "else:\n",
    "    print('Probably different distributions')"
   ]
  },
  {
   "cell_type": "code",
   "execution_count": null,
   "id": "59c20060",
   "metadata": {},
   "outputs": [],
   "source": []
  }
 ],
 "metadata": {
  "kernelspec": {
   "display_name": "Python 3 (ipykernel)",
   "language": "python",
   "name": "python3"
  },
  "language_info": {
   "codemirror_mode": {
    "name": "ipython",
    "version": 3
   },
   "file_extension": ".py",
   "mimetype": "text/x-python",
   "name": "python",
   "nbconvert_exporter": "python",
   "pygments_lexer": "ipython3",
   "version": "3.9.7"
  }
 },
 "nbformat": 4,
 "nbformat_minor": 5
}
